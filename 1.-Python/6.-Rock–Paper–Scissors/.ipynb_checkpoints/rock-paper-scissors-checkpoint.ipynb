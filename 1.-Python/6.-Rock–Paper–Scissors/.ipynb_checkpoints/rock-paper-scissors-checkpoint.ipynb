{
 "cells": [
  {
   "cell_type": "markdown",
   "metadata": {},
   "source": [
    "<img src=\"https://bit.ly/2VnXWr2\" width=\"100\" align=\"left\">"
   ]
  },
  {
   "cell_type": "markdown",
   "metadata": {},
   "source": [
    "# Rock, Paper & Scissors\n",
    "\n",
    "Let's play the famous game against our computer. You can check the rules [here](https://en.wikipedia.org/wiki/Rock%E2%80%93paper%E2%80%93scissors). \n",
    "\n",
    "## Task\n",
    "Create a program that imitates the playability of the well known game of rock, paper, scissors. Follow the guidelines provided.\n",
    "\n",
    "## Tools\n",
    "1. Loop: **for/while**\n",
    "2. Functions: **input(), print()...**\n",
    "3. Conditional statements: **if, elif, else**\n",
    "4. Definition of functions. Modular programming\n",
    "5. Import modules\n",
    "\n",
    "**To solve this challenge, the use of functions is recommended.**\n",
    "\n",
    "#### 1. Import the choice function of the random module."
   ]
  },
  {
   "cell_type": "code",
   "execution_count": 231,
   "metadata": {},
   "outputs": [],
   "source": [
    "import random"
   ]
  },
  {
   "cell_type": "markdown",
   "metadata": {},
   "source": [
    "#### 2. Create a list that includes the 3 possible gesture options of the game: 'rock', 'paper' or 'scissors'. Store the list in a variable called `gestures`."
   ]
  },
  {
   "cell_type": "code",
   "execution_count": 232,
   "metadata": {},
   "outputs": [],
   "source": [
    "gestures = ['rock', 'paper', 'scissors']"
   ]
  },
  {
   "cell_type": "markdown",
   "metadata": {},
   "source": [
    "#### 3. Create a variable called `n_rounds` to store the maximum number of rounds to play in a game. \n",
    "Remember that the number of rounds must be odd: 1, 3, 5, ..."
   ]
  },
  {
   "cell_type": "code",
   "execution_count": 233,
   "metadata": {},
   "outputs": [
    {
     "name": "stdout",
     "output_type": "stream",
     "text": [
      "3\n"
     ]
    }
   ],
   "source": [
    "rounds = [1, 3, 5]\n",
    "n_rounds = random.choice(rounds)\n",
    "print(n_rounds)"
   ]
  },
  {
   "cell_type": "markdown",
   "metadata": {},
   "source": [
    "#### 4. Create a variable called `rounds_to_win` to store the number of rounds that a player must win to win the game.\n",
    "**Hint**: the value stored in `rounds_to_win` depends on the value of `n_rounds`. "
   ]
  },
  {
   "cell_type": "code",
   "execution_count": 234,
   "metadata": {},
   "outputs": [],
   "source": [
    "rounds_to_win = n_rounds"
   ]
  },
  {
   "cell_type": "markdown",
   "metadata": {},
   "source": [
    "#### 5. Create two variables to store the number of rounds that the computer and the player have won. Call these variables `cpu_score` and `player_score`."
   ]
  },
  {
   "cell_type": "code",
   "execution_count": 235,
   "metadata": {},
   "outputs": [],
   "source": [
    "cpu_score = 0\n",
    "player_score = 0"
   ]
  },
  {
   "cell_type": "markdown",
   "metadata": {},
   "source": [
    "#### 6. Define a function that randomly returns one of the 3 gesture options.\n",
    "You will use this function to simulate the gesture choice of the computer. "
   ]
  },
  {
   "cell_type": "code",
   "execution_count": 236,
   "metadata": {},
   "outputs": [
    {
     "name": "stdout",
     "output_type": "stream",
     "text": [
      "scissors\n"
     ]
    }
   ],
   "source": [
    "cpu = random.choice(gestures)\n",
    "print(cpu)"
   ]
  },
  {
   "cell_type": "markdown",
   "metadata": {},
   "source": [
    "#### 7. Define a function that asks the player which is the gesture he or she wants to show: 'rock', 'paper' or 'scissors'.\n",
    "The player should only be allowed to choose one of the 3 gesture options. If the player's choice is not rock, paper or scissors, keep asking until it is."
   ]
  },
  {
   "cell_type": "code",
   "execution_count": 237,
   "metadata": {},
   "outputs": [
    {
     "name": "stdout",
     "output_type": "stream",
     "text": [
      "Gesture to show *paper, rock, scissors*:scissors\n"
     ]
    }
   ],
   "source": [
    "player = input(\"Gesture to show *paper, rock, scissors*:\")"
   ]
  },
  {
   "cell_type": "markdown",
   "metadata": {},
   "source": [
    "#### 8. Define a function that checks who won a round. \n",
    "The function should return 0 if there is a tie, 1 if the computer wins and 2 if the player wins."
   ]
  },
  {
   "cell_type": "code",
   "execution_count": 238,
   "metadata": {},
   "outputs": [
    {
     "name": "stdout",
     "output_type": "stream",
     "text": [
      "Tie\n"
     ]
    }
   ],
   "source": [
    "def check(g):\n",
    "    if g == 'paper':\n",
    "        if player == 'rock':\n",
    "            return 1\n",
    "        elif player == 'scissors':\n",
    "            return 2\n",
    "        elif player == 'paper':\n",
    "            return 'Tie'\n",
    "    elif g == 'rock':\n",
    "        if player == 'rock':\n",
    "            return 'Tie'\n",
    "        elif player == 'scissors':\n",
    "            return 1\n",
    "        elif player == 'paper':\n",
    "            return 2\n",
    "    elif g == 'scissors':\n",
    "        if player == 'rock':\n",
    "            return 2\n",
    "        elif player == 'scissors':\n",
    "            return 'Tie'\n",
    "        elif player == 'paper':\n",
    "            return 1\n",
    "print(check(cpu))"
   ]
  },
  {
   "cell_type": "markdown",
   "metadata": {},
   "source": [
    "#### 9. Define a function that prints the choice of the computer, the choice of the player and a message that announces who won the current round. \n",
    "You should also use this function to update the variables that count the number of rounds that the computer and the player have won. The score of the winner increases by one point. If there is a tie, the score does not increase."
   ]
  },
  {
   "cell_type": "code",
   "execution_count": 239,
   "metadata": {},
   "outputs": [
    {
     "name": "stdout",
     "output_type": "stream",
     "text": [
      "The choice of the computer is scissors\n",
      "The choice of the player is scissors\n",
      "There is no winner\n"
     ]
    }
   ],
   "source": [
    "print('The choice of the computer is', cpu)\n",
    "print('The choice of the player is', player)\n",
    "if check(cpu) == 1:\n",
    "    cpu_score += 1\n",
    "    print('The winner is the computer')\n",
    "elif check(cpu) == 2:\n",
    "    player_score += 1\n",
    "    print('The winner is the player')\n",
    "elif check(cpu) == 'Tie':\n",
    "    print('There is no winner')"
   ]
  },
  {
   "cell_type": "markdown",
   "metadata": {},
   "source": [
    "#### 10. Now it's time to code the execution of the game using the functions and variables you defined above. \n",
    "\n",
    "First, create a loop structure that repeats while no player reaches the minimum score necessary to win and the number of rounds is less than the maximum number of rounds to play in a game.  \n",
    "\n",
    "Inside the loop, use the functions and variables above to create the execution of a round: ask for the player's choice, generate the random choice of the computer, show the round results, update the scores, etc. "
   ]
  },
  {
   "cell_type": "code",
   "execution_count": 240,
   "metadata": {},
   "outputs": [
    {
     "name": "stdout",
     "output_type": "stream",
     "text": [
      "\u001b[1m\u001b[91mTHE GAME BEGINS !\u001b[0m\n",
      "RULES: WIN 3 TIME(S)\n",
      "Gesture to show *paper, rock, scissors*:rock\n",
      "The choice of the computer is paper\n",
      "The choice of the player is rock\n",
      "The winner is the computer\n",
      "CPU scores: 1\n",
      "Player scores: 0\n",
      "Gesture to show *paper, rock, scissors*:scissors\n",
      "The choice of the computer is rock\n",
      "The choice of the player is scissors\n",
      "The winner is the computer\n",
      "CPU scores: 2\n",
      "Player scores: 0\n",
      "Gesture to show *paper, rock, scissors*:paper\n",
      "The choice of the computer is rock\n",
      "The choice of the player is paper\n",
      "The winner is the player\n",
      "CPU scores: 2\n",
      "Player scores: 1\n",
      "Gesture to show *paper, rock, scissors*:rock\n",
      "The choice of the computer is rock\n",
      "The choice of the player is rock\n",
      "There is no winner\n",
      "CPU scores: 2\n",
      "Player scores: 1\n",
      "Gesture to show *paper, rock, scissors*:paper\n",
      "The choice of the computer is paper\n",
      "The choice of the player is paper\n",
      "There is no winner\n",
      "CPU scores: 2\n",
      "Player scores: 1\n",
      "Gesture to show *paper, rock, scissors*:rock\n",
      "The choice of the computer is rock\n",
      "The choice of the player is rock\n",
      "There is no winner\n",
      "CPU scores: 2\n",
      "Player scores: 1\n",
      "Gesture to show *paper, rock, scissors*:scissors\n",
      "The choice of the computer is paper\n",
      "The choice of the player is scissors\n",
      "The winner is the player\n",
      "CPU scores: 2\n",
      "Player scores: 2\n",
      "Gesture to show *paper, rock, scissors*:paper\n",
      "The choice of the computer is paper\n",
      "The choice of the player is paper\n",
      "There is no winner\n",
      "CPU scores: 2\n",
      "Player scores: 2\n",
      "Gesture to show *paper, rock, scissors*:scissors\n",
      "The choice of the computer is rock\n",
      "The choice of the player is scissors\n",
      "The winner is the computer\n",
      "CPU scores: 3\n",
      "Player scores: 2\n",
      "\u001b[1m\u001b[91mTHE GAME IS OVER !\u001b[0m\n",
      "CPU IS THE OVERALL WINNER\n"
     ]
    }
   ],
   "source": [
    "print('\\033[1m' + '\\033[91m' + 'THE GAME BEGINS !' + '\\033[0m')\n",
    "print('RULES:', 'WIN', n_rounds, 'TIME(S)')\n",
    "cpu_score = 0\n",
    "player_score = 0\n",
    "while True:\n",
    "    cpu = random.choice(gestures)\n",
    "    player = input(\"Gesture to show *paper, rock, scissors*:\")\n",
    "    while check(cpu):\n",
    "        print('The choice of the computer is', cpu)\n",
    "        print('The choice of the player is', player)\n",
    "        if check(cpu) == 1:\n",
    "            cpu_score += 1\n",
    "            print('The winner is the computer')\n",
    "        elif check(cpu) == 2:\n",
    "            player_score += 1\n",
    "            print('The winner is the player')\n",
    "        elif check(cpu) == 'Tie':\n",
    "            print('There is no winner')\n",
    "        break\n",
    "    print('CPU scores:', cpu_score)\n",
    "    print('Player scores:', player_score)\n",
    "    if cpu_score >= rounds_to_win:\n",
    "        print('\\033[1m' + '\\033[91m' + 'THE GAME IS OVER !' + '\\033[0m')\n",
    "        print('CPU IS THE OVERALL WINNER')\n",
    "        break\n",
    "    elif player_score >= rounds_to_win:\n",
    "        print('\\033[1m' + '\\033[91m' + 'THE GAME IS OVER !' + '\\033[0m')\n",
    "        print('THE PLAYER IS THE OVERALL WINNER')\n",
    "        break"
   ]
  },
  {
   "cell_type": "markdown",
   "metadata": {},
   "source": [
    "#### 11. Print the winner of the game based on who won more rounds.\n",
    "Remember that the game might be tied. "
   ]
  },
  {
   "cell_type": "code",
   "execution_count": 241,
   "metadata": {},
   "outputs": [
    {
     "name": "stdout",
     "output_type": "stream",
     "text": [
      "\u001b[1m\u001b[94mCPU IS THE OVERALL WINNER !\u001b[0m\n"
     ]
    }
   ],
   "source": [
    "if cpu_score >= rounds_to_win:\n",
    "    print('\\033[1m' + '\\033[94m' + 'CPU IS THE OVERALL WINNER !' + '\\033[0m')\n",
    "elif player_score >= rounds_to_win:\n",
    "    print('\\033[1m' + '\\033[94m' + 'THE PLAYER IS THE OVERALL WINNER !' + '\\033[0m')"
   ]
  },
  {
   "cell_type": "markdown",
   "metadata": {},
   "source": [
    "# Bonus: Rock, Paper, Scissors, Lizard & Spock\n",
    "![](images/rpsls.jpg)\n",
    "\n",
    "In this challenge, you need to improve the previous game by adding two new options. To know more about the rules of the improved version of rock, paper, scissors, check this [link](http://www.samkass.com/theories/RPSSL.html). \n",
    "\n",
    "In addition, you will also need to improve how the game interacts with the player: the number of rounds to play, which must be an odd number, will be requested to the user until a valid number is entered. Define a new function to make that request.\n",
    "\n",
    "**Hint**: Try to reuse the code that you already coded in the previous challenge. If your code is efficient, this bonus will only consist of simple modifications to the original game."
   ]
  },
  {
   "cell_type": "code",
   "execution_count": 242,
   "metadata": {},
   "outputs": [
    {
     "name": "stdout",
     "output_type": "stream",
     "text": [
      "\u001b[1m\u001b[91mTHE GAME BEGINS !\u001b[0m\n",
      "RULES: WIN 3 TIME(S)\n",
      "Gesture to show *paper, rock, scissors, lizard, spock* : spock\n",
      "The choice of the computer is scissors\n",
      "The choice of the player is spock\n",
      "The winner is the player\n",
      "CPU scores: 0\n",
      "Player scores: 1\n",
      "Gesture to show *paper, rock, scissors, lizard, spock* : scissors\n",
      "The choice of the computer is paper\n",
      "The choice of the player is scissors\n",
      "The winner is the player\n",
      "CPU scores: 0\n",
      "Player scores: 2\n",
      "Gesture to show *paper, rock, scissors, lizard, spock* : lizard\n",
      "The choice of the computer is scissors\n",
      "The choice of the player is lizard\n",
      "The winner is the computer\n",
      "CPU scores: 1\n",
      "Player scores: 2\n",
      "Gesture to show *paper, rock, scissors, lizard, spock* : lizard\n",
      "The choice of the computer is scissors\n",
      "The choice of the player is lizard\n",
      "The winner is the computer\n",
      "CPU scores: 2\n",
      "Player scores: 2\n",
      "Gesture to show *paper, rock, scissors, lizard, spock* : lizard\n",
      "The choice of the computer is scissors\n",
      "The choice of the player is lizard\n",
      "The winner is the computer\n",
      "CPU scores: 3\n",
      "Player scores: 2\n",
      "\u001b[1m\u001b[91mTHE GAME IS OVER !\u001b[0m\n",
      "\u001b[1m\u001b[94mCPU IS THE OVERALL WINNER !\u001b[0m\n"
     ]
    }
   ],
   "source": [
    "gestures2 = ['rock', 'paper', 'scissors', 'spock', 'lizard']\n",
    "rounds2 = [1, 3]\n",
    "n_rounds2 = random.choice(rounds2)\n",
    "rounds_to_win2 = n_rounds2\n",
    "cpu_score2 = 0\n",
    "player_score2 = 0\n",
    "def check2(g):\n",
    "    if g == 'paper':\n",
    "        if player2 == 'rock':\n",
    "            return 1\n",
    "        elif player2 == 'spock':\n",
    "            return 1\n",
    "        elif player2 == 'scissors':\n",
    "            return 2\n",
    "        elif player2 == 'lizard':\n",
    "            return 2\n",
    "        elif player2 == 'paper':\n",
    "            return 'Tie'\n",
    "    elif g == 'rock':\n",
    "        if player2 == 'scissors':\n",
    "            return 1\n",
    "        elif player2 == 'lizard':\n",
    "            return 1\n",
    "        elif player2 == 'paper':\n",
    "            return 2\n",
    "        elif player2 == 'spock':\n",
    "            return 2\n",
    "        elif player2 == 'rock':\n",
    "            return 'Tie'\n",
    "    elif g == 'scissors':\n",
    "        if player2 == 'paper':\n",
    "            return 1\n",
    "        elif player2 == 'lizard':\n",
    "            return 1\n",
    "        elif player2 == 'rock':\n",
    "            return 2\n",
    "        elif player2 == 'spock':\n",
    "            return 2\n",
    "        elif player2 == 'scissors':\n",
    "            return 'Tie'\n",
    "    elif g == 'lizard':\n",
    "        if player2 == 'paper':\n",
    "            return 1\n",
    "        elif player2 == 'spock':\n",
    "            return 1\n",
    "        elif player2 == 'rock':\n",
    "            return 2\n",
    "        elif player2 == 'scissors':\n",
    "            return 2\n",
    "        elif player2 == 'lizard':\n",
    "            return 'Tie'\n",
    "    elif g == 'spock':\n",
    "        if player2 == 'scissors':\n",
    "            return 1\n",
    "        elif player2 == 'rock':\n",
    "            return 1\n",
    "        elif player2 == 'paper':\n",
    "            return 2\n",
    "        elif player2 == 'lizard':\n",
    "            return 2\n",
    "        elif player2 == 'spock':\n",
    "            return 'Tie'\n",
    "print('\\033[1m' + '\\033[91m' + 'THE GAME BEGINS !' + '\\033[0m')\n",
    "print('RULES:', 'WIN', n_rounds2, 'TIME(S)')\n",
    "while True:\n",
    "    cpu2 = random.choice(gestures)\n",
    "    player2 = input(\"Gesture to show *paper, rock, scissors, lizard, spock* : \")\n",
    "    while check2(cpu2):\n",
    "        print('The choice of the computer is', cpu2)\n",
    "        print('The choice of the player is', player2)\n",
    "        if check2(cpu2) == 1:\n",
    "            cpu_score2 += 1\n",
    "            print('The winner is the computer')\n",
    "        elif check2(cpu2) == 2:\n",
    "            player_score2 += 1\n",
    "            print('The winner is the player')\n",
    "        elif check2(cpu2) == 'Tie':\n",
    "            print('There is no winner')\n",
    "        break\n",
    "    print('CPU scores:', cpu_score2)\n",
    "    print('Player scores:', player_score2)\n",
    "    if cpu_score2 >= rounds_to_win2:\n",
    "        print('\\033[1m' + '\\033[91m' + 'THE GAME IS OVER !' + '\\033[0m')\n",
    "        print('\\033[1m' + '\\033[94m' + 'CPU IS THE OVERALL WINNER !' + '\\033[0m')\n",
    "        break\n",
    "    elif player_score2 >= rounds_to_win2:\n",
    "        print('\\033[1m' + '\\033[91m' + 'THE GAME IS OVER !' + '\\033[0m')\n",
    "        print('\\033[1m' + '\\033[94m' + 'THE PLAYER IS THE OVERALL WINNER !' + '\\033[0m')\n",
    "        break"
   ]
  }
 ],
 "metadata": {
  "kernelspec": {
   "display_name": "Python 3",
   "language": "python",
   "name": "python3"
  }
 },
 "nbformat": 4,
 "nbformat_minor": 2
}
